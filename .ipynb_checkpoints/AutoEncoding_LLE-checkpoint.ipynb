{
 "cells": [
  {
   "cell_type": "code",
   "execution_count": 3,
   "metadata": {
    "colab": {},
    "colab_type": "code",
    "id": "F4gtSiE4WurL"
   },
   "outputs": [],
   "source": [
    "import pandas as pd\n",
    "import numpy as np\n",
    "import seaborn as sns\n",
    "import matplotlib.pyplot as plt\n",
    "import tensorflow as tf\n",
    "from tensorflow.examples.tutorials.mnist import input_data\n",
    "from sklearn.neighbors import NearestNeighbors \n",
    "from sklearn import datasets, neighbors\n",
    "from scipy import linalg\n",
    "import warnings\n",
    "warnings.filterwarnings('ignore')"
   ]
  },
  {
   "cell_type": "code",
   "execution_count": null,
   "metadata": {},
   "outputs": [],
   "source": []
  },
  {
   "cell_type": "code",
   "execution_count": 4,
   "metadata": {
    "colab": {
     "base_uri": "https://localhost:8080/",
     "height": 82
    },
    "colab_type": "code",
    "id": "U2leyZS-Wurp",
    "outputId": "acd26820-91cc-4a4d-9bfe-24cb136efe45"
   },
   "outputs": [
    {
     "name": "stdout",
     "output_type": "stream",
     "text": [
      "WARNING:tensorflow:From <ipython-input-4-7d08ec3dfcb7>:1: read_data_sets (from tensorflow.contrib.learn.python.learn.datasets.mnist) is deprecated and will be removed in a future version.\n",
      "Instructions for updating:\n",
      "Please use alternatives such as official/mnist/dataset.py from tensorflow/models.\n",
      "WARNING:tensorflow:From /opt/anaconda3/envs/ML/lib/python3.7/site-packages/tensorflow_core/contrib/learn/python/learn/datasets/mnist.py:260: maybe_download (from tensorflow.contrib.learn.python.learn.datasets.base) is deprecated and will be removed in a future version.\n",
      "Instructions for updating:\n",
      "Please write your own downloading logic.\n",
      "WARNING:tensorflow:From /opt/anaconda3/envs/ML/lib/python3.7/site-packages/tensorflow_core/contrib/learn/python/learn/datasets/mnist.py:262: extract_images (from tensorflow.contrib.learn.python.learn.datasets.mnist) is deprecated and will be removed in a future version.\n",
      "Instructions for updating:\n",
      "Please use tf.data to implement this functionality.\n",
      "Extracting MNIST_data/train-images-idx3-ubyte.gz\n",
      "WARNING:tensorflow:From /opt/anaconda3/envs/ML/lib/python3.7/site-packages/tensorflow_core/contrib/learn/python/learn/datasets/mnist.py:267: extract_labels (from tensorflow.contrib.learn.python.learn.datasets.mnist) is deprecated and will be removed in a future version.\n",
      "Instructions for updating:\n",
      "Please use tf.data to implement this functionality.\n",
      "Extracting MNIST_data/train-labels-idx1-ubyte.gz\n",
      "Extracting MNIST_data/t10k-images-idx3-ubyte.gz\n",
      "Extracting MNIST_data/t10k-labels-idx1-ubyte.gz\n",
      "WARNING:tensorflow:From /opt/anaconda3/envs/ML/lib/python3.7/site-packages/tensorflow_core/contrib/learn/python/learn/datasets/mnist.py:290: DataSet.__init__ (from tensorflow.contrib.learn.python.learn.datasets.mnist) is deprecated and will be removed in a future version.\n",
      "Instructions for updating:\n",
      "Please use alternatives such as official/mnist/dataset.py from tensorflow/models.\n"
     ]
    }
   ],
   "source": [
    "mnist = input_data.read_data_sets(\"MNIST_data/\")"
   ]
  },
  {
   "cell_type": "code",
   "execution_count": 5,
   "metadata": {
    "colab": {},
    "colab_type": "code",
    "id": "IH-a6N8SW-Qg"
   },
   "outputs": [],
   "source": [
    "X_m = mnist.train.images\n",
    "y = mnist.train.labels"
   ]
  },
  {
   "cell_type": "markdown",
   "metadata": {
    "colab_type": "text",
    "id": "ZU0tn7j8-4aT"
   },
   "source": [
    "# AutoEncoding LLE"
   ]
  },
  {
   "cell_type": "markdown",
   "metadata": {
    "colab_type": "text",
    "id": "OuDiyUCAWuuh"
   },
   "source": [
    "## LLE\n",
    "\n",
    "First we define the LLE class to be used in the next step \n",
    "\n"
   ]
  },
  {
   "cell_type": "code",
   "execution_count": 6,
   "metadata": {},
   "outputs": [],
   "source": [
    "class LLE:\n",
    "    def __init__(self,X,K):\n",
    "        self.K = K\n",
    "        self.X = X\n",
    "        \n",
    "    def Knbor_Mat(self,dist_metric = \"euclidean\", algorithm = \"ball_tree\"):\n",
    "        \n",
    "        \n",
    "        K = self.K\n",
    "        X = self.X\n",
    "        \n",
    "        knn = neighbors.NearestNeighbors(K+1, metric = dist_metric, algorithm=algorithm).fit(X)\n",
    "        distances, nbors = knn.kneighbors(X)\n",
    "        return(nbors[:,1:])\n",
    "    def get_weights(self,reg):\n",
    "        \n",
    "        K = self.K\n",
    "        X = self.X\n",
    "        \n",
    "        nbors = self.Knbor_Mat()\n",
    "        n,_ = self.X.shape\n",
    "        Weights = np.zeros((n,n))\n",
    "        for i in range(n):\n",
    "\n",
    "            X_bors = X[nbors[i],:] - X[i]\n",
    "            cov_nbors = np.dot(X_bors, X_bors.T)\n",
    "            #regularization tems\n",
    "            trace = np.trace(cov_nbors)\n",
    "            if trace >0 :\n",
    "                R = reg*trace\n",
    "            else:\n",
    "                R = reg\n",
    "            cov_nbors.flat[::K+1] += R\n",
    "            weights = linalg.solve(cov_nbors, np.ones(K).T, sym_pos=True)\n",
    "            weights = weights/weights.sum()\n",
    "            Weights[i, nbors[i]] = weights\n",
    "\n",
    "        return(Weights)\n",
    "    \n",
    "        "
   ]
  },
  {
   "cell_type": "markdown",
   "metadata": {
    "colab_type": "text",
    "id": "8MyPHkfNWuu3"
   },
   "source": [
    "## DAE"
   ]
  },
  {
   "cell_type": "markdown",
   "metadata": {},
   "source": [
    "### Initialisation Of the hyper params \n",
    "\n",
    "\n",
    "In order to implement our algorithm combining DAE and LLE we will first initialize the hyper params "
   ]
  },
  {
   "cell_type": "code",
   "execution_count": 7,
   "metadata": {
    "colab": {},
    "colab_type": "code",
    "id": "1TGHWQYaWuu9"
   },
   "outputs": [],
   "source": [
    "Learning_rate = 0.001\n",
    "Lr_Epochs = 200\n",
    "BATCH_SIZE = 256\n",
    "NUM_BATCHES = int(mnist.train.num_examples/BATCH_SIZE)\n",
    "\n",
    "\n",
    "Hidden_size_1 = 256\n",
    "Hidden_size_2 = 128\n",
    "Input_size = 784\n",
    "\n",
    "Lambda_reg_rate = 0.01\n",
    "\n",
    "Print_freq = 1\n",
    "display = 10\n",
    "\n"
   ]
  },
  {
   "cell_type": "markdown",
   "metadata": {
    "colab": {},
    "colab_type": "code",
    "id": "faDh80DwWuvf"
   },
   "source": [
    "### Conception of the DAE Architecture\n",
    "\n",
    "Now we can build the deep autoencoding architecture \n",
    "\n",
    "We will have in this arcitecture a 4 layers Neural network including 2 encoding layer (Encoder) and 2 decoding layers (Decoder)"
   ]
  },
  {
   "cell_type": "code",
   "execution_count": 8,
   "metadata": {
    "colab": {},
    "colab_type": "code",
    "id": "j1BTWfMoWuvq"
   },
   "outputs": [],
   "source": [
    "X = tf.placeholder(\"float\", [None, Input_size])"
   ]
  },
  {
   "cell_type": "markdown",
   "metadata": {},
   "source": [
    "#### LLE S Matrice Holder\n",
    "\n",
    "we will include LLE to our learning step and in order to do so we create a placeholder for the S matrice"
   ]
  },
  {
   "cell_type": "code",
   "execution_count": 9,
   "metadata": {
    "colab": {},
    "colab_type": "code",
    "id": "GiSc166G1R8j"
   },
   "outputs": [],
   "source": [
    "S = tf.placeholder(tf.float32,[None, None])"
   ]
  },
  {
   "cell_type": "markdown",
   "metadata": {},
   "source": [
    "#### Weights Matrices"
   ]
  },
  {
   "cell_type": "code",
   "execution_count": 10,
   "metadata": {
    "colab": {},
    "colab_type": "code",
    "id": "T49wVQHTWuv6"
   },
   "outputs": [],
   "source": [
    "Hidden_weights = {\n",
    "'encodeur_h1': tf.Variable(tf.random_normal([Input_size, Hidden_size_1])),\n",
    "'encodeur_h2': tf.Variable(tf.random_normal([Hidden_size_1, Hidden_size_2])),\n",
    "'decodeur_h1': tf.Variable(tf.random_normal([Hidden_size_2, Hidden_size_1])),\n",
    "'decodeur_h2': tf.Variable(tf.random_normal([Hidden_size_1, Input_size])),\n",
    "}"
   ]
  },
  {
   "cell_type": "markdown",
   "metadata": {},
   "source": [
    "#### Biais Matrices  "
   ]
  },
  {
   "cell_type": "code",
   "execution_count": 11,
   "metadata": {
    "colab": {},
    "colab_type": "code",
    "id": "F6H1udXZWuwI"
   },
   "outputs": [],
   "source": [
    "biais = {\n",
    "'encodeur_b1': tf.Variable(tf.random_normal([Hidden_size_1])),\n",
    "'encodeur_b2': tf.Variable(tf.random_normal([Hidden_size_2])),\n",
    "'decodeur_b1': tf.Variable(tf.random_normal([Hidden_size_1])),\n",
    "'decodeur_b2': tf.Variable(tf.random_normal([Input_size])),\n",
    "}"
   ]
  },
  {
   "cell_type": "markdown",
   "metadata": {
    "colab": {},
    "colab_type": "code",
    "id": "NF0QGEWxWuwW"
   },
   "source": [
    "#### First layer encodeur_in = (W*x + b)"
   ]
  },
  {
   "cell_type": "code",
   "execution_count": 12,
   "metadata": {
    "colab": {},
    "colab_type": "code",
    "id": "JIGktm2qWuwk"
   },
   "outputs": [],
   "source": [
    "encodeur_in = tf.nn.sigmoid(tf.add(tf.matmul(X,Hidden_weights['encodeur_h1']),biais['encodeur_b1']))"
   ]
  },
  {
   "cell_type": "markdown",
   "metadata": {},
   "source": [
    "#### Second layer encodeur_out = (W * encodeur_in + b)"
   ]
  },
  {
   "cell_type": "code",
   "execution_count": 13,
   "metadata": {
    "colab": {},
    "colab_type": "code",
    "id": "hyvLDkHlWuxB"
   },
   "outputs": [],
   "source": [
    "encodeur_out = tf.nn.sigmoid(tf.add(tf.matmul(encodeur_in,Hidden_weights['encodeur_h2']),biais['encodeur_b2']))"
   ]
  },
  {
   "cell_type": "markdown",
   "metadata": {},
   "source": [
    "#### First decoding layer decodeur_in = (W*encodeur_out + b)"
   ]
  },
  {
   "cell_type": "code",
   "execution_count": 14,
   "metadata": {
    "colab": {},
    "colab_type": "code",
    "id": "XCZykcn9kh-1"
   },
   "outputs": [],
   "source": [
    "decodeur_in = tf.nn.sigmoid(tf.add(tf.matmul(encodeur_out,Hidden_weights['decodeur_h1']),biais['decodeur_b1']))"
   ]
  },
  {
   "cell_type": "markdown",
   "metadata": {},
   "source": [
    "#### Second decoding layer decodeur_out = (W*decodeur_in + b)"
   ]
  },
  {
   "cell_type": "code",
   "execution_count": 15,
   "metadata": {
    "colab": {},
    "colab_type": "code",
    "id": "KpDTOFTAkmJT"
   },
   "outputs": [],
   "source": [
    "decodeur_out = tf.nn.sigmoid(tf.add (tf.matmul(decodeur_in,Hidden_weights['decodeur_h2']),biais['decodeur_b2']))"
   ]
  },
  {
   "cell_type": "code",
   "execution_count": null,
   "metadata": {
    "colab": {},
    "colab_type": "code",
    "id": "PMhDKwtpWuxP"
   },
   "outputs": [],
   "source": []
  },
  {
   "cell_type": "code",
   "execution_count": 16,
   "metadata": {
    "colab": {},
    "colab_type": "code",
    "id": "8FRq15dSWuxc"
   },
   "outputs": [],
   "source": [
    "X_reconst = decodeur_out\n",
    "X_originale = X"
   ]
  },
  {
   "cell_type": "markdown",
   "metadata": {
    "colab": {},
    "colab_type": "code",
    "id": "S6gmI3xcWuxn"
   },
   "source": [
    "### Loss Function \n",
    "Now we define the loss function to be optimized \n",
    "\n",
    "#### Learning loss function\n",
    "\n",
    "\n",
    "$$ \n",
    "\\min _{\\theta_{1}, \\theta_{2}, \\mathbf{S}}\\left\\|\\mathbf{X}-g_{\\theta_{2}}\\left(f_{\\theta_{1}}(\\mathbf{X})\\right)\\right\\|^{2}+\\lambda\\left\\|f_{\\theta_{1}}(\\mathbf{X})-\\mathbf{S} f_{\\theta_{1}}(\\mathbf{X})\\right\\|^{2}$$"
   ]
  },
  {
   "cell_type": "code",
   "execution_count": 17,
   "metadata": {
    "colab": {},
    "colab_type": "code",
    "id": "0dNj-PFzpGY6"
   },
   "outputs": [],
   "source": [
    "Train_loss_func = tf.reduce_mean(tf.pow(X_originale - X_reconst, 2)) + Lambda_reg_rate * tf.reduce_mean(tf.pow(encodeur_out - tf.matmul(S,encodeur_out), 2))"
   ]
  },
  {
   "cell_type": "markdown",
   "metadata": {},
   "source": [
    "#### Test Loss function "
   ]
  },
  {
   "cell_type": "markdown",
   "metadata": {},
   "source": [
    "\n",
    "$$ \n",
    "\\left\\|\\mathbf{X}-g_{\\theta_{2}}\\left(f_{\\theta_{1}}(\\mathbf{X})\\right)\\right\\|^{2}$$"
   ]
  },
  {
   "cell_type": "code",
   "execution_count": 18,
   "metadata": {
    "colab": {},
    "colab_type": "code",
    "id": "m8lROORoWuxw"
   },
   "outputs": [],
   "source": [
    "Test_loss_func = tf.reduce_mean(tf.pow(X_originale- X_reconst, 2))"
   ]
  },
  {
   "cell_type": "markdown",
   "metadata": {},
   "source": [
    "#### Optimizer ( RMSProp )"
   ]
  },
  {
   "cell_type": "code",
   "execution_count": 19,
   "metadata": {
    "colab": {},
    "colab_type": "code",
    "id": "ivYch3GnWux7"
   },
   "outputs": [
    {
     "name": "stdout",
     "output_type": "stream",
     "text": [
      "WARNING:tensorflow:From /opt/anaconda3/envs/ML/lib/python3.7/site-packages/tensorflow_core/python/ops/math_grad.py:1375: where (from tensorflow.python.ops.array_ops) is deprecated and will be removed in a future version.\n",
      "Instructions for updating:\n",
      "Use tf.where in 2.0, which has the same broadcast rule as np.where\n",
      "WARNING:tensorflow:From /opt/anaconda3/envs/ML/lib/python3.7/site-packages/tensorflow_core/python/training/rmsprop.py:119: calling Ones.__init__ (from tensorflow.python.ops.init_ops) with dtype is deprecated and will be removed in a future version.\n",
      "Instructions for updating:\n",
      "Call initializer instance with the dtype argument instead of passing it to the constructor\n"
     ]
    }
   ],
   "source": [
    "optimisation = tf.train.RMSPropOptimizer(Learning_rate).minimize(Train_loss_func)"
   ]
  },
  {
   "cell_type": "markdown",
   "metadata": {
    "colab": {},
    "colab_type": "code",
    "id": "bFni50x2WuyU"
   },
   "source": [
    "### Learning step"
   ]
  },
  {
   "cell_type": "code",
   "execution_count": 20,
   "metadata": {
    "colab": {},
    "colab_type": "code",
    "id": "OU8aj6BwuQaO"
   },
   "outputs": [],
   "source": [
    "initialisation = tf.global_variables_initializer()\n",
    "Learning_losses, Test_losses = [],  []\n",
    "Iter_weights = []"
   ]
  },
  {
   "cell_type": "code",
   "execution_count": 21,
   "metadata": {
    "colab": {
     "base_uri": "https://localhost:8080/",
     "height": 3283
    },
    "colab_type": "code",
    "collapsed": true,
    "id": "586Z8sRcsM8_",
    "jupyter": {
     "outputs_hidden": true
    },
    "outputId": "9998b308-07d2-44e1-fba1-62ef59cce962"
   },
   "outputs": [
    {
     "name": "stdout",
     "output_type": "stream",
     "text": [
      "Epoch: 0001 Train Loss= 0.294164330 Test loss= 0.292737842\n",
      "Epoch: 0002 Train Loss= 0.188256487 Test loss= 0.189612523\n",
      "Epoch: 0003 Train Loss= 0.184865609 Test loss= 0.186096817\n",
      "Epoch: 0004 Train Loss= 0.182089552 Test loss= 0.182366550\n",
      "Epoch: 0005 Train Loss= 0.177192286 Test loss= 0.178408727\n",
      "Epoch: 0006 Train Loss= 0.172160506 Test loss= 0.173813820\n",
      "Epoch: 0007 Train Loss= 0.171724439 Test loss= 0.171366483\n",
      "Epoch: 0008 Train Loss= 0.169189900 Test loss= 0.168518052\n",
      "Epoch: 0009 Train Loss= 0.165865242 Test loss= 0.166947737\n",
      "Epoch: 0010 Train Loss= 0.164751440 Test loss= 0.162812456\n",
      "Epoch: 0011 Train Loss= 0.163400263 Test loss= 0.162789106\n",
      "Epoch: 0012 Train Loss= 0.160972774 Test loss= 0.160676003\n",
      "Epoch: 0013 Train Loss= 0.157027304 Test loss= 0.158451393\n",
      "Epoch: 0014 Train Loss= 0.155972585 Test loss= 0.156886369\n",
      "Epoch: 0015 Train Loss= 0.157321140 Test loss= 0.156303629\n",
      "Epoch: 0016 Train Loss= 0.152172297 Test loss= 0.152860016\n",
      "Epoch: 0017 Train Loss= 0.154888570 Test loss= 0.152202800\n",
      "Epoch: 0018 Train Loss= 0.151023611 Test loss= 0.151682109\n",
      "Epoch: 0019 Train Loss= 0.148233145 Test loss= 0.148705408\n",
      "Epoch: 0020 Train Loss= 0.148346737 Test loss= 0.147566870\n",
      "Epoch: 0021 Train Loss= 0.144122437 Test loss= 0.146061063\n",
      "Epoch: 0022 Train Loss= 0.144900650 Test loss= 0.144894898\n",
      "Epoch: 0023 Train Loss= 0.145184487 Test loss= 0.145560727\n",
      "Epoch: 0024 Train Loss= 0.142909676 Test loss= 0.144072130\n",
      "Epoch: 0025 Train Loss= 0.143032998 Test loss= 0.143016711\n",
      "Epoch: 0026 Train Loss= 0.144752756 Test loss= 0.144288376\n",
      "Epoch: 0027 Train Loss= 0.142816842 Test loss= 0.141802281\n",
      "Epoch: 0028 Train Loss= 0.140740365 Test loss= 0.141132727\n",
      "Epoch: 0029 Train Loss= 0.140746340 Test loss= 0.140307724\n",
      "Epoch: 0030 Train Loss= 0.140809819 Test loss= 0.139383540\n",
      "Epoch: 0031 Train Loss= 0.141753688 Test loss= 0.138948604\n",
      "Epoch: 0032 Train Loss= 0.141147032 Test loss= 0.140841037\n",
      "Epoch: 0033 Train Loss= 0.139196858 Test loss= 0.138924360\n",
      "Epoch: 0034 Train Loss= 0.139130145 Test loss= 0.138912767\n",
      "Epoch: 0035 Train Loss= 0.140870094 Test loss= 0.137715012\n",
      "Epoch: 0036 Train Loss= 0.139760345 Test loss= 0.137952626\n",
      "Epoch: 0037 Train Loss= 0.139277890 Test loss= 0.139234260\n",
      "Epoch: 0038 Train Loss= 0.138647527 Test loss= 0.137896210\n",
      "Epoch: 0039 Train Loss= 0.138453647 Test loss= 0.137177110\n",
      "Epoch: 0040 Train Loss= 0.133192971 Test loss= 0.134405270\n",
      "Epoch: 0041 Train Loss= 0.136371881 Test loss= 0.134288415\n",
      "Epoch: 0042 Train Loss= 0.134532094 Test loss= 0.135736108\n",
      "Epoch: 0043 Train Loss= 0.135398343 Test loss= 0.133895785\n",
      "Epoch: 0044 Train Loss= 0.132744327 Test loss= 0.132828608\n",
      "Epoch: 0045 Train Loss= 0.132597700 Test loss= 0.134211779\n",
      "Epoch: 0046 Train Loss= 0.132395059 Test loss= 0.131681800\n",
      "Epoch: 0047 Train Loss= 0.130386382 Test loss= 0.131390810\n",
      "Epoch: 0048 Train Loss= 0.128287256 Test loss= 0.130239606\n",
      "Epoch: 0049 Train Loss= 0.131708428 Test loss= 0.131628200\n",
      "Epoch: 0050 Train Loss= 0.129759341 Test loss= 0.129389763\n",
      "Epoch: 0051 Train Loss= 0.128174976 Test loss= 0.128990114\n",
      "Epoch: 0052 Train Loss= 0.127977684 Test loss= 0.129580632\n",
      "Epoch: 0053 Train Loss= 0.129380479 Test loss= 0.128756449\n",
      "Epoch: 0054 Train Loss= 0.128691956 Test loss= 0.131282717\n",
      "Epoch: 0055 Train Loss= 0.128500044 Test loss= 0.128182545\n",
      "Epoch: 0056 Train Loss= 0.127870798 Test loss= 0.128281191\n",
      "Epoch: 0057 Train Loss= 0.126486972 Test loss= 0.124907494\n",
      "Epoch: 0058 Train Loss= 0.127337128 Test loss= 0.129025787\n",
      "Epoch: 0059 Train Loss= 0.126109436 Test loss= 0.125982240\n",
      "Epoch: 0060 Train Loss= 0.125806987 Test loss= 0.125774384\n",
      "Epoch: 0061 Train Loss= 0.126970246 Test loss= 0.124666877\n",
      "Epoch: 0062 Train Loss= 0.126215681 Test loss= 0.121740639\n",
      "Epoch: 0063 Train Loss= 0.123624772 Test loss= 0.122450404\n",
      "Epoch: 0064 Train Loss= 0.122673333 Test loss= 0.120593570\n",
      "Epoch: 0065 Train Loss= 0.120767683 Test loss= 0.119286500\n",
      "Epoch: 0066 Train Loss= 0.118938737 Test loss= 0.119314216\n",
      "Epoch: 0067 Train Loss= 0.116953902 Test loss= 0.118482903\n",
      "Epoch: 0068 Train Loss= 0.117521189 Test loss= 0.118027709\n",
      "Epoch: 0069 Train Loss= 0.117271453 Test loss= 0.118865244\n",
      "Epoch: 0070 Train Loss= 0.115705214 Test loss= 0.116501555\n",
      "Epoch: 0071 Train Loss= 0.113995999 Test loss= 0.115504228\n",
      "Epoch: 0072 Train Loss= 0.114287607 Test loss= 0.115310892\n",
      "Epoch: 0073 Train Loss= 0.116872966 Test loss= 0.114570111\n",
      "Epoch: 0074 Train Loss= 0.116357289 Test loss= 0.115790598\n",
      "Epoch: 0075 Train Loss= 0.113583170 Test loss= 0.114934593\n",
      "Epoch: 0076 Train Loss= 0.114261962 Test loss= 0.113656878\n",
      "Epoch: 0077 Train Loss= 0.114979953 Test loss= 0.114111006\n",
      "Epoch: 0078 Train Loss= 0.113594927 Test loss= 0.111878216\n",
      "Epoch: 0079 Train Loss= 0.112876534 Test loss= 0.113269933\n",
      "Epoch: 0080 Train Loss= 0.113113284 Test loss= 0.112748146\n",
      "Epoch: 0081 Train Loss= 0.113594837 Test loss= 0.113008820\n",
      "Epoch: 0082 Train Loss= 0.112743676 Test loss= 0.110543638\n",
      "Epoch: 0083 Train Loss= 0.110831812 Test loss= 0.112115122\n",
      "Epoch: 0084 Train Loss= 0.110830516 Test loss= 0.109183371\n",
      "Epoch: 0085 Train Loss= 0.110827923 Test loss= 0.110209465\n",
      "Epoch: 0086 Train Loss= 0.111867629 Test loss= 0.110222690\n",
      "Epoch: 0087 Train Loss= 0.109740131 Test loss= 0.111683264\n",
      "Epoch: 0088 Train Loss= 0.111094542 Test loss= 0.111217901\n",
      "Epoch: 0089 Train Loss= 0.109635986 Test loss= 0.109964788\n",
      "Epoch: 0090 Train Loss= 0.110410318 Test loss= 0.110040754\n",
      "Epoch: 0091 Train Loss= 0.108599856 Test loss= 0.109736316\n",
      "Epoch: 0092 Train Loss= 0.110192262 Test loss= 0.108772531\n",
      "Epoch: 0093 Train Loss= 0.108757980 Test loss= 0.107415490\n",
      "Epoch: 0094 Train Loss= 0.108433239 Test loss= 0.108678937\n",
      "Epoch: 0095 Train Loss= 0.108451679 Test loss= 0.107938237\n",
      "Epoch: 0096 Train Loss= 0.106709458 Test loss= 0.107219242\n",
      "Epoch: 0097 Train Loss= 0.107376203 Test loss= 0.107343771\n",
      "Epoch: 0098 Train Loss= 0.108786650 Test loss= 0.107541688\n",
      "Epoch: 0099 Train Loss= 0.107260786 Test loss= 0.106669903\n",
      "Epoch: 0100 Train Loss= 0.106781892 Test loss= 0.107440308\n",
      "Epoch: 0101 Train Loss= 0.106959343 Test loss= 0.106299020\n",
      "Epoch: 0102 Train Loss= 0.105217583 Test loss= 0.106798455\n",
      "Epoch: 0103 Train Loss= 0.106770746 Test loss= 0.105602890\n",
      "Epoch: 0104 Train Loss= 0.103422441 Test loss= 0.102560624\n",
      "Epoch: 0105 Train Loss= 0.104224168 Test loss= 0.101623781\n",
      "Epoch: 0106 Train Loss= 0.103221081 Test loss= 0.101439483\n",
      "Epoch: 0107 Train Loss= 0.103228040 Test loss= 0.103725471\n",
      "Epoch: 0108 Train Loss= 0.103576742 Test loss= 0.104050957\n",
      "Epoch: 0109 Train Loss= 0.101919979 Test loss= 0.102024212\n",
      "Epoch: 0110 Train Loss= 0.101675086 Test loss= 0.102581955\n",
      "Epoch: 0111 Train Loss= 0.104391411 Test loss= 0.102225266\n",
      "Epoch: 0112 Train Loss= 0.102414347 Test loss= 0.101976149\n",
      "Epoch: 0113 Train Loss= 0.102395274 Test loss= 0.103382364\n",
      "Epoch: 0114 Train Loss= 0.103073619 Test loss= 0.102301888\n",
      "Epoch: 0115 Train Loss= 0.102630757 Test loss= 0.103405289\n",
      "Epoch: 0116 Train Loss= 0.101836346 Test loss= 0.101729974\n",
      "Epoch: 0117 Train Loss= 0.102856018 Test loss= 0.103319332\n",
      "Epoch: 0118 Train Loss= 0.102105387 Test loss= 0.102592714\n",
      "Epoch: 0119 Train Loss= 0.102571331 Test loss= 0.102136537\n",
      "Epoch: 0120 Train Loss= 0.102192536 Test loss= 0.102427475\n",
      "Epoch: 0121 Train Loss= 0.101789519 Test loss= 0.100930214\n",
      "Epoch: 0122 Train Loss= 0.103443861 Test loss= 0.101780698\n",
      "Epoch: 0123 Train Loss= 0.099610187 Test loss= 0.099632107\n",
      "Epoch: 0124 Train Loss= 0.098942615 Test loss= 0.098289788\n",
      "Epoch: 0125 Train Loss= 0.098747328 Test loss= 0.100482874\n",
      "Epoch: 0126 Train Loss= 0.100173295 Test loss= 0.098128021\n",
      "Epoch: 0127 Train Loss= 0.098986991 Test loss= 0.099305883\n",
      "Epoch: 0128 Train Loss= 0.098434478 Test loss= 0.097777180\n",
      "Epoch: 0129 Train Loss= 0.099015482 Test loss= 0.097469494\n",
      "Epoch: 0130 Train Loss= 0.098241732 Test loss= 0.099336423\n",
      "Epoch: 0131 Train Loss= 0.099885158 Test loss= 0.097828917\n",
      "Epoch: 0132 Train Loss= 0.099370621 Test loss= 0.099324159\n",
      "Epoch: 0133 Train Loss= 0.098996542 Test loss= 0.098655328\n",
      "Epoch: 0134 Train Loss= 0.098355368 Test loss= 0.098801069\n",
      "Epoch: 0135 Train Loss= 0.098041318 Test loss= 0.098870568\n",
      "Epoch: 0136 Train Loss= 0.096604675 Test loss= 0.096293569\n",
      "Epoch: 0137 Train Loss= 0.095848955 Test loss= 0.095492400\n",
      "Epoch: 0138 Train Loss= 0.096649088 Test loss= 0.096087925\n",
      "Epoch: 0139 Train Loss= 0.096938565 Test loss= 0.096204370\n",
      "Epoch: 0140 Train Loss= 0.096553385 Test loss= 0.094991483\n",
      "Epoch: 0141 Train Loss= 0.096185379 Test loss= 0.095587574\n",
      "Epoch: 0142 Train Loss= 0.095840760 Test loss= 0.094095364\n",
      "Epoch: 0143 Train Loss= 0.095145687 Test loss= 0.095781580\n",
      "Epoch: 0144 Train Loss= 0.094437160 Test loss= 0.095221490\n",
      "Epoch: 0145 Train Loss= 0.095881402 Test loss= 0.094492279\n",
      "Epoch: 0146 Train Loss= 0.096018314 Test loss= 0.096026130\n",
      "Epoch: 0147 Train Loss= 0.096039385 Test loss= 0.095358744\n",
      "Epoch: 0148 Train Loss= 0.094509393 Test loss= 0.094414867\n",
      "Epoch: 0149 Train Loss= 0.095370531 Test loss= 0.094518259\n",
      "Epoch: 0150 Train Loss= 0.094793662 Test loss= 0.094264440\n",
      "Epoch: 0151 Train Loss= 0.095776416 Test loss= 0.095607735\n",
      "Epoch: 0152 Train Loss= 0.095304288 Test loss= 0.094859317\n",
      "Epoch: 0153 Train Loss= 0.094180405 Test loss= 0.095629461\n",
      "Epoch: 0154 Train Loss= 0.093237512 Test loss= 0.094345674\n",
      "Epoch: 0155 Train Loss= 0.094144292 Test loss= 0.094620638\n",
      "Epoch: 0156 Train Loss= 0.095461607 Test loss= 0.094059415\n",
      "Epoch: 0157 Train Loss= 0.094646163 Test loss= 0.094687618\n",
      "Epoch: 0158 Train Loss= 0.094600581 Test loss= 0.093733758\n",
      "Epoch: 0159 Train Loss= 0.095209345 Test loss= 0.093247354\n",
      "Epoch: 0160 Train Loss= 0.094515122 Test loss= 0.094918400\n",
      "Epoch: 0161 Train Loss= 0.094676644 Test loss= 0.095594585\n",
      "Epoch: 0162 Train Loss= 0.094805367 Test loss= 0.094427913\n",
      "Epoch: 0163 Train Loss= 0.094401300 Test loss= 0.094182692\n",
      "Epoch: 0164 Train Loss= 0.094658479 Test loss= 0.094549306\n",
      "Epoch: 0165 Train Loss= 0.095793001 Test loss= 0.092952788\n",
      "Epoch: 0166 Train Loss= 0.094299994 Test loss= 0.093778163\n",
      "Epoch: 0167 Train Loss= 0.093300298 Test loss= 0.094579279\n",
      "Epoch: 0168 Train Loss= 0.094546072 Test loss= 0.093761280\n",
      "Epoch: 0169 Train Loss= 0.092577092 Test loss= 0.094402120\n",
      "Epoch: 0170 Train Loss= 0.095812954 Test loss= 0.094331205\n",
      "Epoch: 0171 Train Loss= 0.095066175 Test loss= 0.092263505\n",
      "Epoch: 0172 Train Loss= 0.093417287 Test loss= 0.094868347\n",
      "Epoch: 0173 Train Loss= 0.093381926 Test loss= 0.092215829\n",
      "Epoch: 0174 Train Loss= 0.092584953 Test loss= 0.093805954\n",
      "Epoch: 0175 Train Loss= 0.092623889 Test loss= 0.092019148\n",
      "Epoch: 0176 Train Loss= 0.093568332 Test loss= 0.092524469\n",
      "Epoch: 0177 Train Loss= 0.093405336 Test loss= 0.093048126\n",
      "Epoch: 0178 Train Loss= 0.092533752 Test loss= 0.094113752\n",
      "Epoch: 0179 Train Loss= 0.092369601 Test loss= 0.093145601\n",
      "Epoch: 0180 Train Loss= 0.092207775 Test loss= 0.091750979\n",
      "Epoch: 0181 Train Loss= 0.093817897 Test loss= 0.092324547\n",
      "Epoch: 0182 Train Loss= 0.093249641 Test loss= 0.093442060\n",
      "Epoch: 0183 Train Loss= 0.093841285 Test loss= 0.093895406\n",
      "Epoch: 0184 Train Loss= 0.092305563 Test loss= 0.093850203\n",
      "Epoch: 0185 Train Loss= 0.092665471 Test loss= 0.093978480\n",
      "Epoch: 0186 Train Loss= 0.093268320 Test loss= 0.092073061\n",
      "Epoch: 0187 Train Loss= 0.091704473 Test loss= 0.092150241\n",
      "Epoch: 0188 Train Loss= 0.093515866 Test loss= 0.092205174\n",
      "Epoch: 0189 Train Loss= 0.092138298 Test loss= 0.093166709\n",
      "Epoch: 0190 Train Loss= 0.091854192 Test loss= 0.092312455\n",
      "Epoch: 0191 Train Loss= 0.091827527 Test loss= 0.092333250\n",
      "Epoch: 0192 Train Loss= 0.091874212 Test loss= 0.091741122\n",
      "Epoch: 0193 Train Loss= 0.092055477 Test loss= 0.090293221\n",
      "Epoch: 0194 Train Loss= 0.091062717 Test loss= 0.089752547\n",
      "Epoch: 0195 Train Loss= 0.091712944 Test loss= 0.090657257\n",
      "Epoch: 0196 Train Loss= 0.091441847 Test loss= 0.090084575\n",
      "Epoch: 0197 Train Loss= 0.093006201 Test loss= 0.090106256\n",
      "Epoch: 0198 Train Loss= 0.091380782 Test loss= 0.090060040\n",
      "Epoch: 0199 Train Loss= 0.090666622 Test loss= 0.089741670\n",
      "Epoch: 0200 Train Loss= 0.090464033 Test loss= 0.089895755\n",
      "Done!\n"
     ]
    },
    {
     "ename": "NameError",
     "evalue": "name 'saver' is not defined",
     "output_type": "error",
     "traceback": [
      "\u001b[0;31m---------------------------------------\u001b[0m",
      "\u001b[0;31mNameError\u001b[0mTraceback (most recent call last)",
      "\u001b[0;32m<ipython-input-21-59a9710ef3d2>\u001b[0m in \u001b[0;36m<module>\u001b[0;34m\u001b[0m\n\u001b[1;32m     40\u001b[0m     \u001b[0mencode_decode\u001b[0m \u001b[0;34m=\u001b[0m \u001b[0msess\u001b[0m\u001b[0;34m.\u001b[0m\u001b[0mrun\u001b[0m\u001b[0;34m(\u001b[0m\u001b[0mX_reconst\u001b[0m\u001b[0;34m,\u001b[0m \u001b[0mfeed_dict\u001b[0m\u001b[0;34m=\u001b[0m\u001b[0;34m{\u001b[0m\u001b[0mX\u001b[0m\u001b[0;34m:\u001b[0m \u001b[0mmnist\u001b[0m\u001b[0;34m.\u001b[0m\u001b[0mtest\u001b[0m\u001b[0;34m.\u001b[0m\u001b[0mimages\u001b[0m\u001b[0;34m[\u001b[0m\u001b[0;34m:\u001b[0m\u001b[0;34m]\u001b[0m\u001b[0;34m}\u001b[0m\u001b[0;34m)\u001b[0m\u001b[0;34m\u001b[0m\u001b[0;34m\u001b[0m\u001b[0m\n\u001b[1;32m     41\u001b[0m     \u001b[0mencode_decode_total\u001b[0m \u001b[0;34m=\u001b[0m \u001b[0msess\u001b[0m\u001b[0;34m.\u001b[0m\u001b[0mrun\u001b[0m\u001b[0;34m(\u001b[0m\u001b[0mX_reconst\u001b[0m\u001b[0;34m,\u001b[0m \u001b[0mfeed_dict\u001b[0m\u001b[0;34m=\u001b[0m\u001b[0;34m{\u001b[0m\u001b[0mX\u001b[0m\u001b[0;34m:\u001b[0m \u001b[0mmnist\u001b[0m\u001b[0;34m.\u001b[0m\u001b[0mtest\u001b[0m\u001b[0;34m.\u001b[0m\u001b[0mimages\u001b[0m\u001b[0;34m[\u001b[0m\u001b[0;34m:\u001b[0m\u001b[0;34m]\u001b[0m\u001b[0;34m}\u001b[0m\u001b[0;34m)\u001b[0m\u001b[0;34m\u001b[0m\u001b[0;34m\u001b[0m\u001b[0m\n\u001b[0;32m---> 42\u001b[0;31m     \u001b[0msaved_path\u001b[0m \u001b[0;34m=\u001b[0m \u001b[0msaver\u001b[0m\u001b[0;34m.\u001b[0m\u001b[0msave\u001b[0m\u001b[0;34m(\u001b[0m\u001b[0msess\u001b[0m\u001b[0;34m,\u001b[0m \u001b[0;34m'./LLE_DAE'\u001b[0m\u001b[0;34m,\u001b[0m \u001b[0mglobal_step\u001b[0m\u001b[0;34m=\u001b[0m\u001b[0mstep\u001b[0m\u001b[0;34m)\u001b[0m\u001b[0;34m\u001b[0m\u001b[0;34m\u001b[0m\u001b[0m\n\u001b[0m",
      "\u001b[0;31mNameError\u001b[0m: name 'saver' is not defined"
     ]
    }
   ],
   "source": [
    "saver = tf.train.Saver()\n",
    "with tf.Session() as sess:\n",
    "    sess.run(initialisation)\n",
    "    NUM_BATCHES = int(mnist.train.num_examples/BATCH_SIZE)\n",
    "    for Epoch in range(Lr_Epochs):\n",
    "        for i in range(NUM_BATCHES):\n",
    "            \n",
    "            \n",
    "            batch_xs, _ = mnist.train.next_batch(BATCH_SIZE)\n",
    "            sortie = sess.run(encodeur_out, feed_dict={X: batch_xs})\n",
    "            \n",
    "            \n",
    "            lle = LLE(sortie,10)\n",
    "            \n",
    "            W = lle.get_weights(0.01)\n",
    "            \n",
    "            \n",
    "            \n",
    "            _, tr_loss = sess.run([optimisation, Train_loss_func],feed_dict={X: batch_xs, S: W})\n",
    "            \n",
    "            batch_x_test_s, _ = mnist.test.next_batch(BATCH_SIZE)\n",
    "            #X_reconst = sess.run(X_reconst, feed_dict={X: mnist.test.images[:BATCH_SIZE]})\n",
    "            \n",
    "            tst_loss = sess.run([Test_loss_func],feed_dict={X_originale: batch_x_test_s})[0]\n",
    "            \n",
    "\n",
    "            \n",
    "            \n",
    "            \n",
    "        if Epoch % Print_freq == 0:\n",
    "            Learning_losses.append(tr_loss)\n",
    "            Test_losses.append(tst_loss)\n",
    "            Iter_weights.append(W)\n",
    "\n",
    "\n",
    "            print(\"Epoch:\", '%04d' % (Epoch+1),\n",
    "                      \"Train Loss=\", \"{:.9f}\".format(tr_loss), \"Test loss=\", \"{:.9f}\".format(tst_loss))\n",
    "\n",
    "    print(\"Done!\")\n",
    "    encode_out = sess.run(encodeur_out, feed_dict={X:X_m})\n",
    "    encode_decode = sess.run(X_reconst, feed_dict={X: mnist.test.images[:]})\n",
    "    encode_decode_total = sess.run(X_reconst, feed_dict={X: mnist.test.images[:]})\n",
    "    saved_path = saver.save(sess, './my-model')\n",
    "\n"
   ]
  },
  {
   "cell_type": "code",
   "execution_count": null,
   "metadata": {},
   "outputs": [],
   "source": []
  },
  {
   "cell_type": "markdown",
   "metadata": {},
   "source": [
    "### Results discution \n",
    "\n",
    "After training our model let's visualize the loss over the iterations "
   ]
  },
  {
   "cell_type": "code",
   "execution_count": 22,
   "metadata": {},
   "outputs": [
    {
     "data": {
      "image/png": "[encoded data removed]",
      "text/plain": [
       "<Figure size 720x360 with 1 Axes>"
      ]
     },
     "metadata": {
      "needs_background": "light"
     },
     "output_type": "display_data"
    }
   ],
   "source": [
    "plt.figure(figsize=(10,5))\n",
    "plt.plot(Learning_losses, label=\"Learning Loss\", color='darkorange')\n",
    "plt.plot(Test_losses, label=\"Testing Loss\", color='blue')\n",
    "plt.ylabel(\"Loss\")\n",
    "plt.xlabel(\"Epoch\")\n",
    "plt.title(\"Loss on Training Phase\")\n",
    "plt.legend()\n",
    "plt.show()"
   ]
  },
  {
   "cell_type": "markdown",
   "metadata": {},
   "source": [
    "Now lets compare results with the original data "
   ]
  },
  {
   "cell_type": "code",
   "execution_count": 23,
   "metadata": {
    "colab": {
     "base_uri": "https://localhost:8080/",
     "height": 323
    },
    "colab_type": "code",
    "id": "aumyeArE4RzX",
    "outputId": "a3355f7f-ea1f-4a30-cdad-f7b06c852f2a"
   },
   "outputs": [
    {
     "data": {
      "image/png": "[encoded data removed]",
      "text/plain": [
       "<Figure size 720x360 with 50 Axes>"
      ]
     },
     "metadata": {
      "needs_background": "light"
     },
     "output_type": "display_data"
    }
   ],
   "source": [
    "f, a = plt.subplots(5, display, figsize=(display, 5))\n",
    "for i in range(display):\n",
    "    \n",
    "    a[0][i].imshow(np.reshape(mnist.test.images[i], (28, 28)))\n",
    "    a[1][i].imshow(np.reshape(mnist.test.images[i+10], (28, 28)))\n",
    "    a[2][i].imshow(np.reshape(mnist.test.images[i+20], (28, 28)))\n",
    "    a[3][i].imshow(np.reshape(mnist.test.images[i+30], (28, 28)))\n",
    "    a[4][i].imshow(np.reshape(mnist.test.images[i+40], (28, 28)))\n",
    "    f.show()\n",
    "plt.title(\"Original data\")\n",
    "plt.draw()\n",
    "plt.show()"
   ]
  },
  {
   "cell_type": "code",
   "execution_count": 24,
   "metadata": {
    "colab": {
     "base_uri": "https://localhost:8080/",
     "height": 323
    },
    "colab_type": "code",
    "id": "2LYMLeQgrCeF",
    "outputId": "dbd1f050-9450-43e5-b281-9588ecc202a7"
   },
   "outputs": [
    {
     "data": {
      "image/png": "[encoded data removed]",
      "text/plain": [
       "<Figure size 720x360 with 50 Axes>"
      ]
     },
     "metadata": {
      "needs_background": "light"
     },
     "output_type": "display_data"
    }
   ],
   "source": [
    "f, a = plt.subplots(5, display, figsize=(display, 5))\n",
    "for i in range(display):\n",
    "    a[0][i].imshow(np.reshape(encode_decode_total[i], (28, 28)))\n",
    "    a[1][i].imshow(np.reshape(encode_decode_total[i+10], (28, 28)))\n",
    "    a[2][i].imshow(np.reshape(encode_decode_total[i+20], (28, 28)))\n",
    "    a[3][i].imshow(np.reshape(encode_decode_total[i+30], (28, 28)))\n",
    "    a[4][i].imshow(np.reshape(encode_decode[i+40], (28, 28)))\n",
    "    f.show()\n",
    "plt.draw()\n",
    "plt.show()"
   ]
  },
  {
   "cell_type": "code",
   "execution_count": null,
   "metadata": {},
   "outputs": [],
   "source": [
    "# TEST\n",
    "with tf.Session() as sess:\n",
    "    saver.restore(sess, './LLE_DAE')"
   ]
  },
  {
   "cell_type": "markdown",
   "metadata": {},
   "source": [
    "### Discution \n",
    "we can observe that the reconstructed data is highly accurate with the presence of some noise.\n",
    "\n",
    "## Conclusion \n",
    "\n",
    "We can conclude that the introduction of the LLE combined with the DAE results on a very interesting non linear Dimentionality reduction with great results."
   ]
  },
  {
   "cell_type": "markdown",
   "metadata": {},
   "source": [
    "# Evaluation "
   ]
  },
  {
   "cell_type": "code",
   "execution_count": 33,
   "metadata": {},
   "outputs": [
    {
     "data": {
      "text/plain": [
       "array([[4.7617418e-01, 9.9999964e-01, 0.0000000e+00, ..., 1.0000000e+00,\n",
       "        1.0000000e+00, 1.0000000e+00],\n",
       "       [7.6064938e-01, 1.0000000e+00, 0.0000000e+00, ..., 1.0000000e+00,\n",
       "        1.0000000e+00, 1.0000000e+00],\n",
       "       [4.0651780e-01, 1.0000000e+00, 0.0000000e+00, ..., 1.0000000e+00,\n",
       "        1.0000000e+00, 1.0000000e+00],\n",
       "       ...,\n",
       "       [8.6525571e-01, 9.9999225e-01, 0.0000000e+00, ..., 1.0000000e+00,\n",
       "        1.0000000e+00, 9.9999976e-01],\n",
       "       [2.6365036e-01, 1.0000000e+00, 5.9604645e-08, ..., 9.9999976e-01,\n",
       "        1.0000000e+00, 1.0000000e+00],\n",
       "       [4.1914269e-01, 1.0000000e+00, 0.0000000e+00, ..., 1.0000000e+00,\n",
       "        1.0000000e+00, 9.9999875e-01]], dtype=float32)"
      ]
     },
     "execution_count": 33,
     "metadata": {},
     "output_type": "execute_result"
    }
   ],
   "source": [
    "X = encode_out\n",
    "\n",
    "X"
   ]
  },
  {
   "cell_type": "code",
   "execution_count": 38,
   "metadata": {},
   "outputs": [],
   "source": [
    "from sklearn.linear_model import LogisticRegression\n",
    "clf = LogisticRegression().fit(X,y)"
   ]
  },
  {
   "cell_type": "code",
   "execution_count": 39,
   "metadata": {},
   "outputs": [],
   "source": [
    "pred = clf.predict(X)"
   ]
  },
  {
   "cell_type": "code",
   "execution_count": 40,
   "metadata": {},
   "outputs": [
    {
     "name": "stdout",
     "output_type": "stream",
     "text": [
      "              precision    recall  f1-score   support\n",
      "\n",
      "           0       0.89      0.91      0.90      5444\n",
      "           1       0.92      0.94      0.93      6179\n",
      "           2       0.79      0.79      0.79      5470\n",
      "           3       0.81      0.81      0.81      5638\n",
      "           4       0.82      0.81      0.82      5307\n",
      "           5       0.78      0.72      0.75      4987\n",
      "           6       0.88      0.90      0.89      5417\n",
      "           7       0.86      0.86      0.86      5715\n",
      "           8       0.79      0.79      0.79      5389\n",
      "           9       0.74      0.74      0.74      5454\n",
      "\n",
      "    accuracy                           0.83     55000\n",
      "   macro avg       0.83      0.83      0.83     55000\n",
      "weighted avg       0.83      0.83      0.83     55000\n",
      "\n"
     ]
    }
   ],
   "source": [
    "print(classification_report(y,pred))"
   ]
  },
  {
   "cell_type": "code",
   "execution_count": 43,
   "metadata": {},
   "outputs": [
    {
     "name": "stdout",
     "output_type": "stream",
     "text": [
      "              precision    recall  f1-score   support\n",
      "\n",
      "           0       0.97      0.97      0.97      5444\n",
      "           1       0.96      0.98      0.97      6179\n",
      "           2       0.93      0.92      0.92      5470\n",
      "           3       0.92      0.91      0.91      5638\n",
      "           4       0.94      0.94      0.94      5307\n",
      "           5       0.91      0.90      0.90      4987\n",
      "           6       0.95      0.97      0.96      5417\n",
      "           7       0.95      0.94      0.94      5715\n",
      "           8       0.91      0.90      0.90      5389\n",
      "           9       0.91      0.92      0.92      5454\n",
      "\n",
      "    accuracy                           0.93     55000\n",
      "   macro avg       0.93      0.93      0.93     55000\n",
      "weighted avg       0.93      0.93      0.93     55000\n",
      "\n"
     ]
    }
   ],
   "source": [
    "start = time.time()\n",
    "clf = LogisticRegression().fit(X_m,y)\n",
    "end = time.time()\n",
    "pred = clf.predict(X_m)\n",
    "print(classification_report(y,pred))"
   ]
  },
  {
   "cell_type": "code",
   "execution_count": 44,
   "metadata": {},
   "outputs": [],
   "source": [
    "import time "
   ]
  },
  {
   "cell_type": "code",
   "execution_count": 45,
   "metadata": {},
   "outputs": [
    {
     "data": {
      "text/plain": [
       "1590588801.6828558"
      ]
     },
     "execution_count": 45,
     "metadata": {},
     "output_type": "execute_result"
    }
   ],
   "source": []
  },
  {
   "cell_type": "code",
   "execution_count": null,
   "metadata": {},
   "outputs": [],
   "source": []
  }
 ],
 "metadata": {
  "accelerator": "GPU",
  "colab": {
   "collapsed_sections": [],
   "name": "reduction de la dimension Auto-LLE.ipynb",
   "provenance": [],
   "toc_visible": true,
   "version": "0.3.2"
  },
  "kernelspec": {
   "display_name": "Python 3",
   "language": "python",
   "name": "python3"
  },
  "language_info": {
   "codemirror_mode": {
    "name": "ipython",
    "version": 3
   },
   "file_extension": ".py",
   "mimetype": "text/x-python",
   "name": "python",
   "nbconvert_exporter": "python",
   "pygments_lexer": "ipython3",
   "version": "3.7.5"
  }
 },
 "nbformat": 4,
 "nbformat_minor": 4
}
